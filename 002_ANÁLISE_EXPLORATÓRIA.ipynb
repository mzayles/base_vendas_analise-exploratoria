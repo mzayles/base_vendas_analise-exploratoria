{
  "nbformat": 4,
  "nbformat_minor": 0,
  "metadata": {
    "colab": {
      "provenance": []
    },
    "kernelspec": {
      "name": "python3",
      "display_name": "Python 3"
    },
    "language_info": {
      "name": "python"
    }
  },
  "cells": [
    {
      "cell_type": "markdown",
      "source": [
        "# **ANÁLISE EXPLORATÓRIA**"
      ],
      "metadata": {
        "id": "AxLn2fI94M3q"
      }
    },
    {
      "cell_type": "code",
      "source": [
        "\"\"\"\n",
        "    Vamos aprender a como utilizar as principais funcionalidades do Pandas\n",
        "    para entender melhor os dados que iremos analisar (identificar problemas).\n",
        "\n",
        "    Preparação de dados (DataPrep)\n",
        "\n",
        "    - Valores faltantes: valores nulos\n",
        "    - Valores duplicados\n",
        "    - Conversão de tipos de dados (int, float, object ou string, bool)\n",
        "    - Transposição (colunas > linhas; linhas > colunas)\n",
        "\"\"\""
      ],
      "metadata": {
        "id": "E_H3WSa4X3_r"
      },
      "execution_count": null,
      "outputs": []
    },
    {
      "cell_type": "code",
      "execution_count": null,
      "metadata": {
        "id": "NRtwXb4j3FCo"
      },
      "outputs": [],
      "source": [
        "import pandas as pd"
      ]
    },
    {
      "cell_type": "code",
      "source": [
        "df = pd.read_csv('base_vendas.csv')\n",
        "df.head()"
      ],
      "metadata": {
        "id": "aCEQyd2I3sgL"
      },
      "execution_count": null,
      "outputs": []
    },
    {
      "cell_type": "code",
      "source": [
        "# retorna as últimas cinco linhas\n",
        "df.tail()"
      ],
      "metadata": {
        "id": "6Fs3WRhE52aH"
      },
      "execution_count": null,
      "outputs": []
    },
    {
      "cell_type": "code",
      "source": [
        "# tipo DataFrame\n",
        "# estrutura de dados do Pandas\n",
        "# uma matriz que possui 2 dimensões (linhas e colunas)\n",
        "# pode ter diversos tipos de dados (string, num, data, bool)\n",
        "# cada coluna possui apenas um tipo de dado (ex: todas as linhas de uma coluna são decimais)\n",
        "# é mutável: é possível manipular, criar, inserir, excluir, entre outros\n",
        "# é composto por colunas, índices e valores\n",
        "\n",
        "type(df)"
      ],
      "metadata": {
        "id": "b7nmyaMO57sW"
      },
      "execution_count": null,
      "outputs": []
    },
    {
      "cell_type": "code",
      "source": [
        "# acessar uma coluna específica\n",
        "df.matricula_funcionario"
      ],
      "metadata": {
        "id": "Wr5dmhjQ7TBk"
      },
      "execution_count": null,
      "outputs": []
    },
    {
      "cell_type": "code",
      "source": [
        "# acessar uma coluna sem padronização\n",
        "# problema identificado: não há padronização no nome das colunas\n",
        "\n",
        "df['Nome Funcionario']"
      ],
      "metadata": {
        "id": "AttuyFIK8WSS"
      },
      "execution_count": null,
      "outputs": []
    },
    {
      "cell_type": "code",
      "source": [
        "# tipo series\n",
        "type(df['Nome Funcionario'])"
      ],
      "metadata": {
        "id": "hYvudw-j-GBW"
      },
      "execution_count": null,
      "outputs": []
    },
    {
      "cell_type": "code",
      "source": [
        "# índices\n",
        "df.index"
      ],
      "metadata": {
        "id": "8epBIgPA-Zru"
      },
      "execution_count": null,
      "outputs": []
    },
    {
      "cell_type": "code",
      "source": [
        "# traz o nome de todas as colunas\n",
        "df.columns"
      ],
      "metadata": {
        "id": "WTdWMc40-xWe"
      },
      "execution_count": null,
      "outputs": []
    },
    {
      "cell_type": "code",
      "source": [
        "# list: []\n",
        "\n",
        "colunas = ['matricula_funcionario', 'nome_funcionario', 'cargo', 'codigo_loja',\n",
        "       'nome_loja', 'codigo_produto', 'descricao_produto', 'categoria',\n",
        "       'preco_custo', 'valor_unitario', 'quantidade', 'comissao', 'dt_venda',\n",
        "       'dt_entrega']\n",
        "type(colunas)"
      ],
      "metadata": {
        "id": "gZELZzz-_Zok"
      },
      "execution_count": null,
      "outputs": []
    },
    {
      "cell_type": "code",
      "source": [
        "# modificar o nome das colunas\n",
        "\n",
        "df.columns = colunas\n",
        "df.head()"
      ],
      "metadata": {
        "id": "LOKiotnWAI3b"
      },
      "execution_count": null,
      "outputs": []
    },
    {
      "cell_type": "code",
      "source": [
        "# total de linhas e colunas\n",
        "# tuple: ()\n",
        "# imutável\n",
        "\n",
        "type(df.shape)"
      ],
      "metadata": {
        "id": "YJO3uocnDLeu"
      },
      "execution_count": null,
      "outputs": []
    },
    {
      "cell_type": "code",
      "source": [
        "qtd_linhas = df.shape[0]\n",
        "qtd_colunas = df.shape[1]"
      ],
      "metadata": {
        "id": "MIZ8DCF6FuWj"
      },
      "execution_count": null,
      "outputs": []
    },
    {
      "cell_type": "code",
      "source": [
        "# análise do negócio\n",
        "# problema em comissão\n",
        "# criar uma nova coluna para o valor de faturamento > valor_unitario * quantidade\n",
        "# converter objeto para inteiro\n",
        "\n",
        "df.info()"
      ],
      "metadata": {
        "id": "CuNAmfrbGj9h"
      },
      "execution_count": null,
      "outputs": []
    },
    {
      "cell_type": "code",
      "source": [
        "# primeiras estatísticas dos dados\n",
        "# somente variáveis númericas\n",
        "# maior e menor juros cadastrados\n",
        "# mean: média\n",
        "# std: desvio padrão\n",
        "# quartiz: 25% de X vendas tem Y quantidade vendida\n",
        "# especialista de negócio\n",
        "\n",
        "df.describe().round(1)"
      ],
      "metadata": {
        "id": "X7Mj_z2NIMpN"
      },
      "execution_count": null,
      "outputs": []
    },
    {
      "cell_type": "code",
      "source": [
        "# estatísticas com variáveis de texto\n",
        "# unique: deduzir que são 12 funcionários\n",
        "# top: mais se repete > José Maria\n",
        "# freq: com que frequência se repete > 280\n",
        "# uma coluna não tem relação com a outra > loja matriz não tem relação com aspirador de pó\n",
        "\n",
        "df.describe(include = object)"
      ],
      "metadata": {
        "id": "RlhmNlSOUSvf"
      },
      "execution_count": null,
      "outputs": []
    },
    {
      "cell_type": "code",
      "source": [
        "# analisar coluna específica\n",
        "df.quantidade.describe().round(2)"
      ],
      "metadata": {
        "id": "QIbD2qsRYFAJ"
      },
      "execution_count": null,
      "outputs": []
    },
    {
      "cell_type": "code",
      "source": [
        "df[['quantidade', 'matricula_funcionario']].describe().round(1)"
      ],
      "metadata": {
        "id": "8xqF2cVaYl46"
      },
      "execution_count": null,
      "outputs": []
    },
    {
      "cell_type": "code",
      "source": [
        "# valores nulos - isna() ou isnull()\n",
        "# somar a quantidade de registros nulos\n",
        "# percentual de dados faltantes\n",
        "\n",
        "df.isnull().sum() / qtd_linhas * 100"
      ],
      "metadata": {
        "id": "XlDSCSlHajR9"
      },
      "execution_count": null,
      "outputs": []
    },
    {
      "cell_type": "code",
      "source": [
        "# valores duplicados - duplicated()\n",
        "df.duplicated().sum()"
      ],
      "metadata": {
        "id": "LGPuCeMPco6B"
      },
      "execution_count": null,
      "outputs": []
    },
    {
      "cell_type": "code",
      "source": [
        "# repetição na quantidade\n",
        "# mesmo funcionário vendeu produtos com a mesma quantidade\n",
        "\n",
        "df[['quantidade', 'matricula_funcionario']].duplicated().sum()"
      ],
      "metadata": {
        "id": "EbBC12Vaerpe"
      },
      "execution_count": null,
      "outputs": []
    },
    {
      "cell_type": "code",
      "source": [
        "# vendas por produto\n",
        "df.quantidade.value_counts()"
      ],
      "metadata": {
        "id": "MqvqLuHyfSC8"
      },
      "execution_count": null,
      "outputs": []
    },
    {
      "cell_type": "code",
      "source": [
        "# conversão\n",
        "df.info()"
      ],
      "metadata": {
        "id": "f8NuDP3ff1Rl"
      },
      "execution_count": null,
      "outputs": []
    },
    {
      "cell_type": "code",
      "source": [
        "df.valor_unitario"
      ],
      "metadata": {
        "id": "VWCjoa3XgLJy"
      },
      "execution_count": null,
      "outputs": []
    }
  ]
}